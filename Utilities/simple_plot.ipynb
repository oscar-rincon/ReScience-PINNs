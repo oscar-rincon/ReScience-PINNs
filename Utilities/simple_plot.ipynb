{
 "cells": [
  {
   "cell_type": "code",
   "execution_count": 16,
   "metadata": {},
   "outputs": [],
   "source": [
    "\n",
    "#!/usr/bin/env python3\n",
    "# -*- coding: utf-8 -*-\n",
    "\"\"\"\n",
    "Created on Mon Oct  9 20:11:57 2017\n",
    "\n",
    "@author: mraissi\n",
    "\"\"\"\n",
    "\n",
    "import numpy as np\n",
    "import matplotlib as mpl\n",
    "import matplotlib.pyplot as plt\n",
    "\n",
    "#mpl.use('pgf')\n",
    "\n",
    "# def figsize(scale, nplots = 1):\n",
    "#     fig_width_pt = 390.0                          # Get this from LaTeX using \\the\\textwidth\n",
    "#     inches_per_pt = 1.0/72.27                       # Convert pt to inch\n",
    "#     golden_mean = (np.sqrt(5.0)-1.0)/2.0            # Aesthetic ratio (you could change this)\n",
    "#     fig_width = fig_width_pt*inches_per_pt*scale    # width in inches\n",
    "#     fig_height = nplots*fig_width*golden_mean              # height in inches\n",
    "#     fig_size = [fig_width,fig_height]\n",
    "#     return fig_size\n",
    "def figsize(width_scale, height_scale, nplots=1):\n",
    "    fig_width_pt = 390.0  # Get this from LaTeX using \\the\\textwidth\n",
    "    inches_per_pt = 1.0 / 72.27  # Convert pt to inch\n",
    "    golden_mean = (np.sqrt(5.0) - 1.0) / 2.0  # Aesthetic ratio (you could change this)\n",
    "    fig_width = fig_width_pt * inches_per_pt * width_scale  # width in inches\n",
    "    fig_height = nplots * fig_width * golden_mean * height_scale  # height in inches\n",
    "    fig_size = [fig_width, fig_height]\n",
    "    return fig_size\n",
    "\n",
    "\n",
    "pgf_with_latex = {                      # setup matplotlib to use latex for output\n",
    "    \"pgf.texsystem\": \"pdflatex\",        # change this if using xetex or lautex\n",
    "    \"text.usetex\": True,                # use LaTeX to write all text\n",
    "    \"font.family\": \"serif\",\n",
    "    \"font.serif\": [],                   # blank entries should cause plots to inherit fonts from the document\n",
    "    \"font.sans-serif\": [],\n",
    "    \"font.monospace\": [],\n",
    "    \"axes.labelsize\": 10,               # LaTeX default is 10pt font.\n",
    "    \"font.size\": 10,\n",
    "    \"legend.fontsize\": 8,               # Make the legend/label fonts a little smaller\n",
    "    \"xtick.labelsize\": 8,\n",
    "    \"ytick.labelsize\": 8,\n",
    "    \"figure.figsize\": figsize(1.0,1.0),     # default fig size of 0.9 textwidth\n",
    "    \"pgf.preamble\": '\\\\usepackage[utf8x]{inputenc},\\\\usepackage[T1]{fontenc}',\n",
    "        # plots will be generated using this preamble\n",
    "        \n",
    "    }\n",
    "mpl.rcParams.update(pgf_with_latex)\n",
    "\n",
    "# I make my own newfig and savefig functions\n",
    "def newfig(width, nplots = 1):\n",
    "    fig = plt.figure(figsize=figsize(width, nplots))\n",
    "    ax = fig.add_subplot(111)\n",
    "    return fig, ax\n",
    "\n",
    "def savefig(filename, crop = True):\n",
    "    if crop == True:\n",
    "        plt.savefig('{}'.format(filename), bbox_inches='tight', pad_inches=0)\n",
    "    else:\n",
    "        plt.savefig('{}'.format(filename))\n",
    "\n",
    "def ema(y, a):\n",
    "   s = []\n",
    "   s.append(y[0])\n",
    "   for t in range(1, len(y)):\n",
    "       s.append(a * y[t] + (1-a) * s[t-1])\n",
    "   return np.array(s)\n",
    "   \n",
    "y = [0]*200\n",
    "y.extend([20]*(1000-len(y)))\n",
    "s = ema(y, 0.01)\n",
    " "
   ]
  },
  {
   "cell_type": "code",
   "execution_count": 7,
   "metadata": {},
   "outputs": [
    {
     "data": {
      "image/png": "[encoded data removed]",
      "text/plain": [
       "<Figure size 539.643x333.518 with 1 Axes>"
      ]
     },
     "metadata": {},
     "output_type": "display_data"
    }
   ],
   "source": [
    "\n"
   ]
  },
  {
   "cell_type": "code",
   "execution_count": 37,
   "metadata": {},
   "outputs": [
    {
     "data": {
      "image/png": "[encoded data removed]",
      "text/plain": [
       "<Figure size 539.643x133.407 with 3 Axes>"
      ]
     },
     "metadata": {},
     "output_type": "display_data"
    }
   ],
   "source": [
    "# Modify the existing plot code to create two subplots\n",
    "fig, axarr = plt.subplots(1, 3, figsize=figsize(1.0, 0.2, nplots=2))  # width_scale = 1.0, height_scale = 0.8\n",
    "plt.subplots_adjust(wspace=0.6)\n",
    "\n",
    "# Plot on the first subplot\n",
    "axarr[0].plot(s, color='blue')\n",
    "axarr[0].set_xlabel('X Label')\n",
    "axarr[0].set_ylabel('EMA')\n",
    "\n",
    "# Plot on the second subplot\n",
    "axarr[1].plot(s, color='red')  # Example plot, replace with your second plot\n",
    "axarr[1].set_xlabel('X Label')\n",
    "axarr[1].set_ylabel('EMA')\n",
    "\n",
    "# Plot on the second subplot\n",
    "axarr[2].plot(s, color='red')  # Example plot, replace with your second plot\n",
    "axarr[2].set_xlabel('X Label')\n",
    "axarr[2].set_ylabel('EMA')\n",
    "\n",
    "# Save the figure\n",
    "savefig('ema')"
   ]
  }
 ],
 "metadata": {
  "kernelspec": {
   "display_name": "ReScience-PINNs-env",
   "language": "python",
   "name": "python3"
  },
  "language_info": {
   "codemirror_mode": {
    "name": "ipython",
    "version": 3
   },
   "file_extension": ".py",
   "mimetype": "text/x-python",
   "name": "python",
   "nbconvert_exporter": "python",
   "pygments_lexer": "ipython3",
   "version": "3.1.undefined"
  }
 },
 "nbformat": 4,
 "nbformat_minor": 2
}
