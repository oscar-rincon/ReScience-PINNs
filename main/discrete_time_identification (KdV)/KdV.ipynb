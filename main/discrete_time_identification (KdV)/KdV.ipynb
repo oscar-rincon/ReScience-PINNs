{
 "cells": [
  {
   "cell_type": "code",
   "execution_count": 1,
   "metadata": {},
   "outputs": [
    {
     "name": "stderr",
     "output_type": "stream",
     "text": [
      "2024-06-03 01:41:48.407121: I tensorflow/core/util/port.cc:113] oneDNN custom operations are on. You may see slightly different numerical results due to floating-point round-off errors from different computation orders. To turn them off, set the environment variable `TF_ENABLE_ONEDNN_OPTS=0`.\n",
      "2024-06-03 01:41:48.924923: I tensorflow/core/platform/cpu_feature_guard.cc:210] This TensorFlow binary is optimized to use available CPU instructions in performance-critical operations.\n",
      "To enable the following instructions: SSE4.1 SSE4.2 AVX AVX2 AVX512F AVX512_VNNI FMA, in other operations, rebuild TensorFlow with the appropriate compiler flags.\n"
     ]
    }
   ],
   "source": [
    "import sys\n",
    "sys.path.insert(0, '../../Utilities/')\n",
    "\n",
    "import tensorflow as tf\n",
    "import numpy as np\n",
    "import matplotlib.pyplot as plt\n",
    "import time\n",
    "import scipy.io\n",
    "from plotting import newfig, savefig\n",
    "from mpl_toolkits.mplot3d import Axes3D\n",
    "import matplotlib.gridspec as gridspec\n",
    "from mpl_toolkits.axes_grid1 import make_axes_locatable"
   ]
  },
  {
   "cell_type": "code",
   "execution_count": 3,
   "metadata": {},
   "outputs": [
    {
     "ename": "AttributeError",
     "evalue": "module 'numpy' has no attribute 'asscalar'",
     "output_type": "error",
     "traceback": [
      "\u001b[0;31m---------------------------------------------------------------------------\u001b[0m",
      "\u001b[0;31mAttributeError\u001b[0m                            Traceback (most recent call last)",
      "Cell \u001b[0;32mIn[3], line 28\u001b[0m\n\u001b[1;32m     25\u001b[0m u1 \u001b[38;5;241m=\u001b[39m Exact[idx_x,idx_t \u001b[38;5;241m+\u001b[39m skip][:,\u001b[38;5;28;01mNone\u001b[39;00m]\n\u001b[1;32m     26\u001b[0m u1 \u001b[38;5;241m=\u001b[39m u1 \u001b[38;5;241m+\u001b[39m noise\u001b[38;5;241m*\u001b[39mnp\u001b[38;5;241m.\u001b[39mstd(u1)\u001b[38;5;241m*\u001b[39mnp\u001b[38;5;241m.\u001b[39mrandom\u001b[38;5;241m.\u001b[39mrandn(u1\u001b[38;5;241m.\u001b[39mshape[\u001b[38;5;241m0\u001b[39m], u1\u001b[38;5;241m.\u001b[39mshape[\u001b[38;5;241m1\u001b[39m])\n\u001b[0;32m---> 28\u001b[0m dt \u001b[38;5;241m=\u001b[39m \u001b[43mnp\u001b[49m\u001b[38;5;241;43m.\u001b[39;49m\u001b[43masscalar\u001b[49m(t_star[idx_t\u001b[38;5;241m+\u001b[39mskip] \u001b[38;5;241m-\u001b[39m t_star[idx_t])        \n\u001b[1;32m     30\u001b[0m \u001b[38;5;66;03m# Doman bounds\u001b[39;00m\n\u001b[1;32m     31\u001b[0m lb \u001b[38;5;241m=\u001b[39m x_star\u001b[38;5;241m.\u001b[39mmin(\u001b[38;5;241m0\u001b[39m)\n",
      "File \u001b[0;32m~/miniconda3/envs/ReScience-PINNs-env/lib/python3.12/site-packages/numpy/__init__.py:333\u001b[0m, in \u001b[0;36m__getattr__\u001b[0;34m(attr)\u001b[0m\n\u001b[1;32m    330\u001b[0m     \u001b[38;5;124m\"\u001b[39m\u001b[38;5;124mRemoved in NumPy 1.25.0\u001b[39m\u001b[38;5;124m\"\u001b[39m\n\u001b[1;32m    331\u001b[0m     \u001b[38;5;28;01mraise\u001b[39;00m \u001b[38;5;167;01mRuntimeError\u001b[39;00m(\u001b[38;5;124m\"\u001b[39m\u001b[38;5;124mTester was removed in NumPy 1.25.\u001b[39m\u001b[38;5;124m\"\u001b[39m)\n\u001b[0;32m--> 333\u001b[0m \u001b[38;5;28;01mraise\u001b[39;00m \u001b[38;5;167;01mAttributeError\u001b[39;00m(\u001b[38;5;124m\"\u001b[39m\u001b[38;5;124mmodule \u001b[39m\u001b[38;5;132;01m{!r}\u001b[39;00m\u001b[38;5;124m has no attribute \u001b[39m\u001b[38;5;124m\"\u001b[39m\n\u001b[1;32m    334\u001b[0m                      \u001b[38;5;124m\"\u001b[39m\u001b[38;5;132;01m{!r}\u001b[39;00m\u001b[38;5;124m\"\u001b[39m\u001b[38;5;241m.\u001b[39mformat(\u001b[38;5;18m__name__\u001b[39m, attr))\n",
      "\u001b[0;31mAttributeError\u001b[0m: module 'numpy' has no attribute 'asscalar'"
     ]
    }
   ],
   "source": [
    "        \n",
    "q = 50\n",
    "skip = 120\n",
    "\n",
    "N0 = 199\n",
    "N1 = 201\n",
    "layers = [1, 50, 50, 50, 50, q]\n",
    "\n",
    "data = scipy.io.loadmat('../Data/KdV.mat')\n",
    "\n",
    "t_star = data['tt'].flatten()[:,None]\n",
    "x_star = data['x'].flatten()[:,None]\n",
    "Exact = np.real(data['uu'])\n",
    "\n",
    "idx_t = 40\n",
    "\n",
    "noise = 0.0    \n",
    "\n",
    "idx_x = np.random.choice(Exact.shape[0], N0, replace=False)\n",
    "x0 = x_star[idx_x,:]\n",
    "u0 = Exact[idx_x,idx_t][:,None]\n",
    "u0 = u0 + noise*np.std(u0)*np.random.randn(u0.shape[0], u0.shape[1])\n",
    "    \n",
    "idx_x = np.random.choice(Exact.shape[0], N1, replace=False)\n",
    "x1 = x_star[idx_x,:]\n",
    "u1 = Exact[idx_x,idx_t + skip][:,None]\n",
    "u1 = u1 + noise*np.std(u1)*np.random.randn(u1.shape[0], u1.shape[1])\n",
    "\n",
    "dt = (t_star[idx_t+skip] - t_star[idx_t]).item()\n",
    "    \n",
    "# Doman bounds\n",
    "lb = x_star.min(0)\n",
    "ub = x_star.max(0)"
   ]
  }
 ],
 "metadata": {
  "kernelspec": {
   "display_name": "ReScience-PINNs-env",
   "language": "python",
   "name": "python3"
  },
  "language_info": {
   "codemirror_mode": {
    "name": "ipython",
    "version": 3
   },
   "file_extension": ".py",
   "mimetype": "text/x-python",
   "name": "python",
   "nbconvert_exporter": "python",
   "pygments_lexer": "ipython3",
   "version": "3.12.3"
  }
 },
 "nbformat": 4,
 "nbformat_minor": 2
}
