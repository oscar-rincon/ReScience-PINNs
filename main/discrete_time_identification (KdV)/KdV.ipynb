{
 "cells": [
  {
   "cell_type": "code",
   "execution_count": 4,
   "metadata": {},
   "outputs": [],
   "source": [
    "import sys\n",
    "sys.path.insert(0, '../../Utilities/')\n",
    "\n",
    "import torch\n",
    "import torch.nn as nn\n",
    "import tensorflow as tf\n",
    "import numpy as np\n",
    "import matplotlib.pyplot as plt\n",
    "import time\n",
    "import scipy.io\n",
    "from plotting import newfig, savefig\n",
    "from mpl_toolkits.mplot3d import Axes3D\n",
    "import matplotlib.gridspec as gridspec\n",
    "from mpl_toolkits.axes_grid1 import make_axes_locatable"
   ]
  },
  {
   "cell_type": "code",
   "execution_count": 2,
   "metadata": {},
   "outputs": [],
   "source": [
    "        \n",
    "q = 50\n",
    "skip = 120\n",
    "\n",
    "N0 = 199\n",
    "N1 = 201\n",
    "layers = [1, 50, 50, 50, 50, q]\n",
    "\n",
    "data = scipy.io.loadmat('../Data/KdV.mat')\n",
    "\n",
    "t_star = data['tt'].flatten()[:,None]\n",
    "x_star = data['x'].flatten()[:,None]\n",
    "Exact = np.real(data['uu'])\n",
    "\n",
    "idx_t = 40\n",
    "\n",
    "noise = 0.0    \n",
    "\n",
    "idx_x = np.random.choice(Exact.shape[0], N0, replace=False)\n",
    "x0 = x_star[idx_x,:]\n",
    "u0 = Exact[idx_x,idx_t][:,None]\n",
    "u0 = u0 + noise*np.std(u0)*np.random.randn(u0.shape[0], u0.shape[1])\n",
    "    \n",
    "idx_x = np.random.choice(Exact.shape[0], N1, replace=False)\n",
    "x1 = x_star[idx_x,:]\n",
    "u1 = Exact[idx_x,idx_t + skip][:,None]\n",
    "u1 = u1 + noise*np.std(u1)*np.random.randn(u1.shape[0], u1.shape[1])\n",
    "\n",
    "dt = (t_star[idx_t+skip] - t_star[idx_t]).item()\n",
    "    \n",
    "# Doman bounds\n",
    "lb = x_star.min(0)\n",
    "ub = x_star.max(0)"
   ]
  },
  {
   "cell_type": "code",
   "execution_count": 29,
   "metadata": {},
   "outputs": [
    {
     "data": {
      "text/plain": [
       "array([[ 7.27155653e-04,  1.57344667e-03,  1.39594928e-03, ...,\n",
       "         1.45473145e-03,  1.45397626e-03,  1.45453354e-03],\n",
       "       [-2.76877225e-04,  1.68994977e-03,  3.67410714e-03, ...,\n",
       "         3.37842805e-03,  3.38107278e-03,  3.37912096e-03],\n",
       "       [ 2.12501283e-04, -4.60933545e-04,  2.64763716e-03, ...,\n",
       "         5.29816607e-03,  5.29296882e-03,  5.29680401e-03],\n",
       "       ...,\n",
       "       [-1.52996711e-06,  2.30557089e-06, -2.89193986e-06, ...,\n",
       "         2.64763716e-03,  5.75620774e-03,  5.08277304e-03],\n",
       "       [ 7.78573451e-07, -1.17325226e-06,  1.47161370e-06, ...,\n",
       "        -2.94207450e-04,  1.68994977e-03,  3.65677685e-03],\n",
       "       [-2.22312522e-07,  3.35006462e-07, -4.20195107e-07, ...,\n",
       "         5.83620422e-05, -1.19135395e-04,  7.27155653e-04]], dtype=float32)"
      ]
     },
     "execution_count": 29,
     "metadata": {},
     "output_type": "execute_result"
    }
   ],
   "source": [
    "# Load IRK weights\n",
    "q = 50\n",
    "tmp = np.float32(np.loadtxt('../../Utilities/IRK_weights/Butcher_IRK%d.txt' % (q), ndmin = 2))\n",
    "weights =  np.reshape(tmp[0:q**2+q], (q+1,q))     \n",
    "IRK_alpha = weights[0:-1,:].T\n",
    "IRK_beta = weights[-1:,:].T        \n",
    "IRK_times = tmp[q**2+q:]\n",
    "IRK_alpha"
   ]
  },
  {
   "cell_type": "code",
   "execution_count": 32,
   "metadata": {},
   "outputs": [
    {
     "data": {
      "text/plain": [
       "torch.Size([50, 51])"
      ]
     },
     "execution_count": 32,
     "metadata": {},
     "output_type": "execute_result"
    }
   ],
   "source": [
    "IRK_alpha = weights[0:-1,:]\n",
    "IRK_weights = torch.from_numpy(np.reshape(tmp[0:q**2+q], (q+1, q))).to(torch.float64).T\n",
    "IRK_weights.shape"
   ]
  }
 ],
 "metadata": {
  "kernelspec": {
   "display_name": "ReScience-PINNs-env",
   "language": "python",
   "name": "python3"
  },
  "language_info": {
   "codemirror_mode": {
    "name": "ipython",
    "version": 3
   },
   "file_extension": ".py",
   "mimetype": "text/x-python",
   "name": "python",
   "nbconvert_exporter": "python",
   "pygments_lexer": "ipython3",
   "version": "3.12.3"
  }
 },
 "nbformat": 4,
 "nbformat_minor": 2
}
